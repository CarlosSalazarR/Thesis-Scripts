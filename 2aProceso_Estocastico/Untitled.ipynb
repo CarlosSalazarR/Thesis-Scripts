{
 "cells": [
  {
   "cell_type": "code",
   "execution_count": null,
   "id": "bb7f1ac6",
   "metadata": {},
   "outputs": [],
   "source": [
    "model=ARIMA(Beta[0][:585],order=(2,0,13))\n",
    "model_fit=model.fit()\n",
    "model_fit.summary()"
   ]
  }
 ],
 "metadata": {
  "kernelspec": {
   "display_name": "Python 3 (ipykernel)",
   "language": "python",
   "name": "python3"
  },
  "language_info": {
   "codemirror_mode": {
    "name": "ipython",
    "version": 3
   },
   "file_extension": ".py",
   "mimetype": "text/x-python",
   "name": "python",
   "nbconvert_exporter": "python",
   "pygments_lexer": "ipython3",
   "version": "3.10.6"
  }
 },
 "nbformat": 4,
 "nbformat_minor": 5
}
